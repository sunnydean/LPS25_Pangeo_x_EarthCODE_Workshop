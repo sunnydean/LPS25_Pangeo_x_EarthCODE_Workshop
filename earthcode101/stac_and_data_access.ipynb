{
 "cells": [
  {
   "cell_type": "markdown",
   "id": "33b756e0",
   "metadata": {},
   "source": [
    "---\n",
    "title: STAC and Data Access\n",
    "subtitle: D.03.10 HANDS-ON TRAINING - EarthCODE 101 Hands-On Workshop - Example showing how to access data on the EarthCODE Open Science Catalog and working with the Pangeo ecosystem on EDC\n",
    "authors:\n",
    "  - name: Deyan Samardzhiev\n",
    "    github: sunnydean\n",
    "    orcid: 0009-0003-3803-8522\n",
    "    affiliations:\n",
    "      - id: Lampata UK\n",
    "        institution: Lampata UK\n",
    "reviewers:\n",
    "  - name: Anne Fouilloux\n",
    "    orcid: 0000-0002-1784-2920\n",
    "    github: annefou\n",
    "    affiliations:\n",
    "      - id: Simula Research Laboratory\n",
    "        institution: Simula Research Laboratory\n",
    "        ror: 00vn06n10\n",
    "date: 2025-06-01\n",
    "thumbnail: https://raw.githubusercontent.com/ESA-EarthCODE/documentation/refs/heads/main/pages/public/img/EarthCODE_kv_transparent.png\n",
    "keywords: [\"earthcode\", \"pangeo\", \"stac\", \"xarray\", \"earth observation\", \"remote sensing\"]\n",
    "tags: [\"pangeo\"]\n",
    "releaseDate: 2025-06-01\n",
    "datePublished: 2025-06-01\n",
    "dateModified: 2025-06-01\n",
    "banner: ../static/PANGEO.png\n",
    "github: https://github.com/sunnydean/LPS25_Pangeo_x_EarthCODE_Workshop\n",
    "license: MIT\n",
    "---"
   ]
  },
  {
   "cell_type": "markdown",
   "id": "e099ee33",
   "metadata": {},
   "source": [
    "## Table of Content\n",
    "```{contents}\n",
    ":depth: 1\n",
    "```"
   ]
  },
  {
   "cell_type": "markdown",
   "id": "2b1c4711-5b4d-4a21-aba0-43b0a923802c",
   "metadata": {},
   "source": [
    "TODO: Copy from STAC basics guide to explain what stac is"
   ]
  },
  {
   "cell_type": "markdown",
   "id": "e0ac2ce7",
   "metadata": {},
   "source": [
    "### Packages\n",
    "\n",
    "As best practices dictate, we recommend that you install and import all the necessary libraries at the top of your Jupyter notebook."
   ]
  },
  {
   "cell_type": "code",
   "execution_count": null,
   "id": "a05e3267",
   "metadata": {
    "vscode": {
     "languageId": "plaintext"
    }
   },
   "outputs": [],
   "source": [
    "from pystac.extensions.storage import StorageExtension\n",
    "from datetime import datetime\n",
    "\n",
    "from pystac_client import Client as pystac_client\n",
    "from odc.stac import configure_rio, stac_load\n",
    "\n",
    "import pystac\n",
    "import xarray"
   ]
  },
  {
   "cell_type": "markdown",
   "id": "c725e6c1-1887-4115-b395-4db87c99b7c7",
   "metadata": {},
   "source": [
    "# What is STAC?\n",
    "\n",
    "**(summarised from https://stacspec.org/en/tutorials/intro-to-stac/)**\n",
    "\n",
    "The SpatioTemporal Asset Catalog (STAC) specification was designed to establish a standard, unified language to talk about geospatial data, allowing it to be more easily searchable and queryable.\n",
    "\n",
    "STAC has been designed to be simple, flexible, and extensible. STAC is a network of JSON files that reference other JSON files, with each JSON file adhering to a specific core specification depending on which STAC component it is describing. This core JSON format can also be customized to fit differing needs, making the STAC specification highly flexible and adaptable.\n",
    "\n",
    "Therefore, if the STAC specification seems 'light', that is because it is light-- by design. Through this flexibility, different domains and tools can easily utilize the STAC specification and make it their own.\n",
    "\n",
    "The Extensions section of the spec is where the community collaborates on more detail about specific data types and new functionality.\n",
    "\n"
   ]
  },
  {
   "cell_type": "markdown",
   "id": "6c87097e-5dae-4268-a142-b07fe2e7fa0d",
   "metadata": {},
   "source": [
    "## What is STAC\n",
    "\n",
    "The SpatioTemporal Asset Catalog (STAC) specification was designed to establish a standard, unified language to talk about geospatial data, allowing it to be more easily searchable and queryable.\n",
    "\n",
    "STAC has been designed to be simple, flexible, and extensible. STAC is a network of JSON files that reference other JSON files, with each JSON file adhering to a specific core specification depending on which STAC component it is describing. This core JSON format can also be customized to fit differing needs, making the STAC specification highly flexible and adaptable.\n",
    "\n",
    "Therefore, if the STAC specification seems 'light', that is because it is light-- by design. Through this flexibility, different domains and tools can easily utilize the STAC specification and make it their own.\n",
    "\n",
    "The Extensions section of the spec is where the community collaborates on more detail about specific data types and new functionality.\n",
    "\n",
    "### What is a SpatioTemporal Asset\n",
    "\n",
    "A SpatioTemporal Asset is any file that represents information about the Earth captured in a certain place and at a particular time. Examples include spatiotemporal data derived from imagery (from satellites, airplanes, and drones), Synthetic Aperture Radar (SAR), point clouds (from LiDAR, structure from motion, etc.), data cubes, and full-motion video. The key is that the GeoJSON is not the actual 'thing', but instead references files and serves as an index to the STAC Assets.\n",
    "\n",
    "\n"
   ]
  },
  {
   "cell_type": "markdown",
   "id": "328b498a-0126-4e04-93f7-db222a54d347",
   "metadata": {},
   "source": [
    "# STAC Components\n",
    "There are three component specifications that together make up the core SpatioTemporal Asset Catalog specification. These components are:\n",
    "\n",
    "1. Item - A STAC Item is the foundational building block of STAC. It is a GeoJSON feature supplemented with additional metadata that enables clients to traverse through catalogs. Since an item is a GeoJSON, it can be easily read by any modern GIS or geospatial library. One item can describe one or more SpatioTemporal Asset(s). For example, a common practice of using STAC for imagery is that each band in a scene is its own STAC Asset and there is one STAC Item to represent all the bands in a single scene.\n",
    "\n",
    "2. Catalog - A Catalog is usually the starting point for navigating a STAC. A catalog.json file contains links to some combination of other STAC Catalogs, Collections, and/or Items. We can think of it like a directory tree on a computer.\n",
    "\n",
    "\n",
    "3. Collection - A STAC Collection builds upon the STAC Catalog specification to include additional metadata about a set of items that exist as part of the collection. It extends the parent catalog by adding additional fields to enable the description of information like the spatial and temporal extent of the data, the license, keywords, providers, etc. Therefore, it can easily be extended for additional collection-level metadata.\n",
    "\n",
    "Each component can be used alone, but they work best in concert with one another.\n",
    "\n",
    "![stac](../static/stacsetup.png)\n",
    "\n",
    "A STAC Item represents one or more spatiotemporal assets as GeoJSON so that it can be easily searched. The STAC Catalog specification provides structural elements to group STAC Items and Collections. STAC Collections are catalogs that add more required metadata and describe a group of related items. Now, let's dive into each one of these components a bit more in-depth.\n",
    "\n",
    "The STAC API specification builds on top of that core and allows us to do dynamic queries over our collections."
   ]
  },
  {
   "cell_type": "markdown",
   "id": "838bc802-d3e4-4af6-9162-d48b8993c3fd",
   "metadata": {},
   "source": [
    "# Accessing the EarthCODE Catalog\n",
    "\n",
    "This section introduces [STAC](https://stacspec.org/), the SpatioTemporal Asset Catalog. STAC provides a standardized way to structure metadata about spatialotemporal data. The STAC community are building APIs and tools on top of this structure to make working with spatiotemporal data easier.\n",
    "\n",
    "\n",
    "Users of STAC will interact most often with Collections and Items (there's also Catalogs, which group together collections). A Collection is just a collection of items, plus some additional metadata like the license and summaries of what's available on each item. You can view available collections on the EarthCODE catalog with\n",
    "\n",
    "\n"
   ]
  },
  {
   "cell_type": "markdown",
   "id": "9509d1c9-fc0f-4b9d-a33d-ce43dcfc549e",
   "metadata": {},
   "source": [
    "## Open Science Catalog\n",
    "The [**Open Science Data Catalog**](https://opensciencedata.esa.int/) is a publicly accessible platform that enables anyone—whether or not they have a GitHub account—to **discover and access Earth Observation research**. It provides a transparent and structured way to explore the latest results from EO projects by organizing metadata in a consistent and harmonized format.\n",
    "\n",
    "Built on the open-source **STAC Browser**, the catalog allows users to browse and explore interlinked elements such as **themes, variables, EO missions, projects, products, workflows, and experiments**, all described using **STAC-compliant JSON files**."
   ]
  },
  {
   "cell_type": "code",
   "execution_count": null,
   "id": "8716ee8e-0270-4d15-be1f-2c6a70fb91b5",
   "metadata": {},
   "outputs": [],
   "source": [
    "cat = pystac_client.open(\"https://catalog.osc.earthcode.eox.at/\")\n",
    "cat"
   ]
  },
  {
   "cell_type": "markdown",
   "id": "14dc0bac-7f54-4d66-a5b3-18f6648ab778",
   "metadata": {},
   "source": [
    "Now let's search and access the same data we were just looking at, SeasFire:\n",
    "\n",
    "[https://opensciencedata.esa.int/products/seasfire-cube/collection](https://opensciencedata.esa.int/products/seasfire-cube/collection)\n",
    "\n",
    "\n",
    "In the examples we've seen so far, we've just been given a STAC item. How do you find the items you want in the first place? That's where a STAC API comes in.\n",
    "\n",
    "A STAC API is some web service that accepts queries and returns STAC objects. The ability to handle queries is what differentiates a STAC API from a static STAC catalog, where items are just present on some file system.\n",
    "\n"
   ]
  },
  {
   "cell_type": "code",
   "execution_count": null,
   "id": "f08fef38-8295-44be-8010-65d87b214471",
   "metadata": {},
   "outputs": [],
   "source": [
    "# Todo"
   ]
  },
  {
   "cell_type": "markdown",
   "id": "01370c53-d676-412f-bd82-20e745535b9a",
   "metadata": {},
   "source": [
    "Note that the collection points to another collection, which contains the actual data. The EarthCODE STAC extension describes some metadata that enrich the STAC collection https://github.com/stac-extensions/osc.\n",
    "\n",
    "![img.png](../static/EarthCODE-STAC.png)"
   ]
  },
  {
   "cell_type": "markdown",
   "id": "c496fc6e-c79a-41c6-9dc7-3fb63dd2134f",
   "metadata": {},
   "source": [
    "# Accessing Data from EarthCODE\n",
    "\n",
    "Now we will load the actual data from the STAC item we've found...\n",
    "\n",
    ">The SeasFire Cube is a scientific datacube for seasonal fire forecasting around the globe. It has been created for the SeasFire project, that adresses 'Earth System Deep Learning for Seasonal Fire Forecasting' and is funded by the European Space Agency (ESA)  in the context of ESA Future EO-1 Science for Society Call. It contains almost 20 years of data (2001-2021) in an 8-days time resolution and 0.25 degrees grid resolution. It has a diverse range of seasonal fire drivers. It expands from atmospheric and climatological ones to vegetation variables, socioeconomic and the target variables related to wildfires such as burned areas, fire radiative power, and wildfire-related CO2 emissions."
   ]
  },
  {
   "cell_type": "code",
   "execution_count": null,
   "id": "6b8347d6-b8e6-414c-99b1-cf14a8154381",
   "metadata": {},
   "outputs": [],
   "source": [
    "seasfire = pystac.read_file(\n",
    "    \"https://s3.waw4-1.cloudferro.com/EarthCODE/Catalogs/seasfire/seasfire-cube_v0.4/catalog.json\"\n",
    ")\n",
    "\n",
    "for item in seasfire.get_items():\n",
    "    print(item)\n",
    "\n",
    "seasfire\n",
    "# https://s3.waw4-1.cloudferro.com/EarthCODE/Catalogs/seasfire/seasfire-cube_v0.4/seasfire-cube-v.0.4/seasfire-cube-v.0.4.json"
   ]
  },
  {
   "cell_type": "code",
   "execution_count": null,
   "id": "e3ee615f-1dc8-49c3-8d5b-8935c2bab310",
   "metadata": {},
   "outputs": [],
   "source": [
    "seasfire_cube = seasfire.get_item(\"seasfire-cube-v.0.4\")\n",
    "seasfire_cube"
   ]
  },
  {
   "cell_type": "markdown",
   "id": "459494e4-e302-4851-ae1d-646098dd73cf",
   "metadata": {},
   "source": [
    "## Items and Assets\n",
    "STAC is a metadata standard. It doesn't really deal with data files directly. Instead, it links to the data files under the \"assets\" property.\n",
    "\n",
    "As described in **https://guide.cloudnativegeo.org/** in this case the STAC catalog contains a collection for each Zarr store and there are collection-level assets that point to the location of the Zarr store. There are no items at all in this setup.\n",
    "\n",
    "In this scenario any STAC metadata exists purely for discovery and cannot be used for filtering or subsetting (see Future Work for more on that). To search the STAC catalog to find collections of interest you will use the Collection Search API Extension. Depending on the level of metadata that has been provided in the STAC catalog you can search by the name of the collection and possibly by the variables – exposed via the Data Cube Extension.\n",
    "\n",
    "### Read straight to xarray\n",
    "For a collection of interest, the best approach for accessing the data is to construct the lazily-loaded data cube in xarray (or an xarray.DataTree if the Zarr store has more than one group) and filter from there.\n",
    "\n",
    "To do this you can use the zarr backend directly or you can use the stac backend to streamline even more. The stac backend is mostly useful if the STAC collection uses the xarray extension.\n",
    "\n",
    "Constructing the lazy data cube is likely to be very fast if there is a consolidated metadata file OR the data is in Zarr-3 and the Zarr metadata fetch is highly parallelized (read more).\n",
    "\n"
   ]
  },
  {
   "cell_type": "markdown",
   "id": "49cd1235-f038-4cf4-b71d-90f5bc03535d",
   "metadata": {},
   "source": [
    "# Loading and Fetching Data Cube - Xarray"
   ]
  },
  {
   "cell_type": "code",
   "execution_count": null,
   "id": "b484f336-0aa8-4c4a-9709-dbaed10244dd",
   "metadata": {},
   "outputs": [],
   "source": [
    "http_url = seasfire_cube.assets[\"data\"].href.replace(\n",
    "    \"s3://\",\n",
    "    f\"{seasfire_cube.properties['storage:schemes'][seasfire_cube.assets['data'].extra_fields['storage:refs'][0]]['platform'].rstrip('/')}/\",\n",
    ")\n",
    "\n",
    "ds = xarray.open_dataset(\n",
    "\thttp_url,\n",
    "\tengine='zarr',\n",
    "    chunks={},\n",
    "\tconsolidated=True\n",
    "\t# storage_options = {'token': 'anon'}\n",
    ")\n",
    "ds"
   ]
  }
 ],
 "metadata": {
  "kernelspec": {
   "display_name": "Python [conda env:pangeo] *",
   "language": "python",
   "name": "conda-env-pangeo-py"
  },
  "language_info": {
   "codemirror_mode": {
    "name": "ipython",
    "version": 3
   },
   "file_extension": ".py",
   "mimetype": "text/x-python",
   "name": "python",
   "nbconvert_exporter": "python",
   "pygments_lexer": "ipython3",
   "version": "3.13.3"
  }
 },
 "nbformat": 4,
 "nbformat_minor": 5
}
