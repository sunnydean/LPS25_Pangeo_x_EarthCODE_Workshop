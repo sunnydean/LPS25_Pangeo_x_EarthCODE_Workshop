{
 "cells": [
  {
   "cell_type": "markdown",
   "id": "33b756e0",
   "metadata": {},
   "source": [
    "---\n",
    "title: Data Exploration\n",
    "subtitle: D.03.10 HANDS-ON TRAINING - EarthCODE 101 Hands-On Workshop - Example showing how to access data on the EarthCODE Open Science Catalog and working with the Pangeo ecosystem on EDC\n",
    "authors:\n",
    "  - name: Deyan Samardzhiev\n",
    "    github: sunnydean\n",
    "    orcid: 0009-0003-3803-8522\n",
    "    affiliations:\n",
    "      - id: Lampata UK\n",
    "        institution: Lampata UK\n",
    "reviewers:\n",
    "  - name: Anne Fouilloux\n",
    "    orcid: 0000-0002-1784-2920\n",
    "    github: annefou\n",
    "    affiliations:\n",
    "      - id: Simula Research Laboratory\n",
    "        institution: Simula Research Laboratory\n",
    "        ror: 00vn06n10\n",
    "date: 2025-06-01\n",
    "thumbnail: https://raw.githubusercontent.com/ESA-EarthCODE/documentation/refs/heads/main/pages/public/img/EarthCODE_kv_transparent.png\n",
    "keywords: [\"earthcode\", \"pangeo\", \"stac\", \"xarray\", \"earth observation\", \"remote sensing\"]\n",
    "tags: [\"pangeo\"]\n",
    "releaseDate: 2025-06-01\n",
    "datePublished: 2025-06-01\n",
    "dateModified: 2025-06-01\n",
    "banner: ../static/PANGEO.png\n",
    "github: https://github.com/sunnydean/LPS25_Pangeo_x_EarthCODE_Workshop\n",
    "license: MIT\n",
    "---"
   ]
  },
  {
   "cell_type": "markdown",
   "id": "241e59d2",
   "metadata": {},
   "source": [
    "https://viewer.earthsystemdatalab.net"
   ]
  },
  {
   "cell_type": "markdown",
   "id": "e099ee33",
   "metadata": {},
   "source": [
    "## Table of Content\n",
    "```{contents}\n",
    ":depth: 1\n",
    "```"
   ]
  },
  {
   "cell_type": "code",
   "execution_count": 2,
   "id": "5eb0b574-29da-4303-a768-3c92f15c51da",
   "metadata": {},
   "outputs": [],
   "source": [
    "import json\n",
    "from ipyleaflet import Map, Polygon, GeoJSON\n",
    "from shapely.geometry import shape, box"
   ]
  },
  {
   "cell_type": "markdown",
   "id": "b762a6c1-b43c-4e92-a6f2-a7eeebb3389b",
   "metadata": {},
   "source": [
    "### Plotting our downloaded polygon"
   ]
  },
  {
   "cell_type": "code",
   "execution_count": 3,
   "id": "b9bbb96f",
   "metadata": {
    "vscode": {
     "languageId": "plaintext"
    }
   },
   "outputs": [
    {
     "data": {
      "application/vnd.jupyter.widget-view+json": {
       "model_id": "b038285c037543cb970078c74fb1c092",
       "version_major": 2,
       "version_minor": 0
      },
      "text/plain": [
       "Map(center=[41.188519221865235, -7.240361342716506], controls=(ZoomControl(options=['position', 'zoom_in_text'…"
      ]
     },
     "execution_count": 3,
     "metadata": {},
     "output_type": "execute_result"
    }
   ],
   "source": [
    "# Load the feature from a file\n",
    "with open(\"../aoi/feature.json\") as f:\n",
    "    feature = json.load(f)\n",
    "\n",
    "poly = shape(feature[\"geometry\"])\n",
    "bbox = list(poly.bounds)\n",
    "center = ((bbox[1] + bbox[3]) / 2.0, (bbox[0] + bbox[2]) / 2.0)\n",
    "m = Map(center=center, zoom=10)\n",
    "epsg = 4326\n",
    "\n",
    "# Create polygon from lists of points\n",
    "polygon = Polygon(\n",
    "    locations=[\n",
    "        (bbox[1], bbox[0]),\n",
    "        (bbox[3], bbox[0]),\n",
    "        (bbox[3], bbox[2]),\n",
    "        (bbox[1], bbox[2]),\n",
    "    ],\n",
    "    color=\"green\",\n",
    "    fill_color=\"green\",\n",
    ")\n",
    "\n",
    "# Add the polygon to the map\n",
    "m.add(polygon)\n",
    "m\n"
   ]
  },
  {
   "cell_type": "code",
   "execution_count": null,
   "id": "f1b832d5",
   "metadata": {
    "vscode": {
     "languageId": "plaintext"
    }
   },
   "outputs": [],
   "source": []
  },
  {
   "cell_type": "markdown",
   "id": "b253d184",
   "metadata": {},
   "source": []
  }
 ],
 "metadata": {
  "kernelspec": {
   "display_name": "Python [conda env:pangeo] *",
   "language": "python",
   "name": "conda-env-pangeo-py"
  },
  "language_info": {
   "codemirror_mode": {
    "name": "ipython",
    "version": 3
   },
   "file_extension": ".py",
   "mimetype": "text/x-python",
   "name": "python",
   "nbconvert_exporter": "python",
   "pygments_lexer": "ipython3",
   "version": "3.13.3"
  }
 },
 "nbformat": 4,
 "nbformat_minor": 5
}
