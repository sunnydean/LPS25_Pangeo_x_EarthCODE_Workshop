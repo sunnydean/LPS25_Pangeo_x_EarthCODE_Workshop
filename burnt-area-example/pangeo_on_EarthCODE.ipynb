{
 "cells": [
  {
   "cell_type": "markdown",
   "id": "395c42f3-5ca6-4e54-9a25-a1dfbca2df6b",
   "metadata": {},
   "source": [
    "---\n",
    "title: Pangeo X EarthCODE\n",
    "subtitle: D.03.10 HANDS-ON TRAINING - EarthCODE 101 Hands-On Workshop - Example showing how to access data on the EarthCODE Open Science Catalog and working with the Pangeo ecosystem on EDC\n",
    "authors:\n",
    "  - name: Deyan Samardzhiev\n",
    "    github: sunnydean\n",
    "    orcid: 0009-0003-3803-8522\n",
    "    affiliations:\n",
    "      - id: Lampata UK\n",
    "        institution: Lampata UK\n",
    "reviewers:\n",
    "  - name: Anne Fouilloux\n",
    "    orcid: 0000-0002-1784-2920\n",
    "    github: annefou\n",
    "    affiliations:\n",
    "      - id: Simula Research Laboratory\n",
    "        institution: Simula Research Laboratory\n",
    "        ror: 00vn06n10\n",
    "date: 2025-06-01\n",
    "thumbnail: https://raw.githubusercontent.com/ESA-EarthCODE/documentation/refs/heads/main/pages/public/img/EarthCODE_kv_transparent.png\n",
    "keywords: [\"earthcode\", \"pangeo\", \"stac\", \"xarray\", \"earth observation\", \"remote sensing\"]\n",
    "tags: [\"pangeo\"]\n",
    "releaseDate: 2025-06-01\n",
    "datePublished: 2025-06-01\n",
    "dateModified: 2025-06-01\n",
    "banner: ../static/PANGEO.png\n",
    "github: https://github.com/sunnydean/LPS25_Pangeo_x_EarthCODE_Workshop\n",
    "license: MIT\n",
    "---"
   ]
  },
  {
   "cell_type": "code",
   "execution_count": null,
   "id": "3644266a-6137-4806-9070-5ace09114025",
   "metadata": {
    "scrolled": true
   },
   "outputs": [],
   "source": [
    "# # remove for EDC actual version, just for local testing\n",
    "# from distributed.client import _global_clients\n",
    "# for client in list(_global_clients.values()):\n",
    "#     client.close()\n",
    "\n"
   ]
  },
  {
   "cell_type": "markdown",
   "id": "87b5c9be",
   "metadata": {},
   "source": [
    "## Table of Content\n",
    "```{contents}\n",
    ":depth: 1\n",
    "```"
   ]
  },
  {
   "cell_type": "markdown",
   "id": "ea6edfbd-b4c2-4f56-a315-8355e53e52ac",
   "metadata": {},
   "source": [
    "## Context\n",
    "We will be using the [Pangeo](https://pangeo.io/) open-source software stack to demonstrate how to fetch EarthCODE published data and publically available satellite Sentinel-2 data to generate burn severity maps for the assessment of the areas affected by wildfires.\n",
    "\n",
    "### Methodology approach\n",
    "* Access Sentinel-2 L2A cloud optimised dataset through STAC\n",
    "* Compute the Normalised Burn Ratio (NBR) index to highlight burned areas\n",
    "* Classify burn severity\n",
    "\n",
    "### Highlights\n",
    "* The NBR index uses near-infrared (NIR) and shortwave-infrared (SWIR) wavelengths.\n",
    "\n",
    "\n",
    "## Data\n",
    "We will use Sentinel-2 data accessed via [element84's STAC API](https://element84.com/earth-search/) endpoint and the [SeasFire Data Cube](https://opensciencedata.esa.int/products/seasfire-cube/collection) to find burned areas, inspect them in more detail and generate burn severity maps for the assessment of the areas affected by wildfires.\n",
    "\n",
    "\n",
    "\n",
    "#### Related publications\n",
    "* https://www.sciencedirect.com/science/article/pii/S1470160X22004708#f0035\n",
    "* https://github.com/yobimania/dea-notebooks/blob/e0ca59f437395f7c9becca74badcf8c49da6ee90/Fire%20Analysis%20Compiled%20Scripts%20(Gadi)/dNBR_full.py\n",
    "* *Alonso, Lazaro, Gans, Fabian, Karasante, Ilektra, Ahuja, Akanksha, Prapas, Ioannis, Kondylatos, Spyros, Papoutsis, Ioannis, Panagiotou, Eleannna, Michail, Dimitrios, Cremer, Felix, Weber, Ulrich, & Carvalhais, Nuno. (2022). SeasFire Cube: A Global Dataset for Seasonal Fire Modeling in the Earth System (0.4) [Data set]. Zenodo. @alonso-2024. The same dataset can also be downloaded from Zenodo: https://zenodo.org/records/13834057*\n",
    "* *https://registry.opendata.aws/sentinel-2-l2a-cogs/*\n",
    "\n",
    "\n",
    "\n",
    "\n",
    "\n",
    "\n",
    "\n",
    "\n"
   ]
  },
  {
   "cell_type": "markdown",
   "id": "e11295d7-5aed-48bb-bacc-b493b6d990e8",
   "metadata": {},
   "source": [
    "### Packages\n",
    "\n",
    "As best practices dictate, we recommend that you install and import all the necessary libraries at the top of your Jupyter notebook."
   ]
  },
  {
   "cell_type": "code",
   "execution_count": null,
   "id": "d22168f3-4e2e-4835-85b0-98fdb2d96d28",
   "metadata": {
    "scrolled": true
   },
   "outputs": [],
   "source": [
    "import json\n",
    "import xarray\n",
    "import rasterio\n",
    "\n",
    "from datetime import datetime\n",
    "from datetime import timedelta\n",
    "\n",
    "import numpy as np\n",
    "import pandas as pd\n",
    "import geopandas as gpd\n",
    "\n",
    "import hvplot.xarray\n",
    "import dask.distributed\n",
    "\n",
    "import matplotlib.pyplot as plt\n",
    "import cartopy.crs as ccrs\n",
    "import cartopy.feature as cfeature\n",
    "from shapely import geometry\n",
    "\n",
    "from pystac_client import Client as pystac_client\n",
    "from odc.stac import configure_rio, stac_load\n",
    "\n",
    "import os\n",
    "import xrlint.all as xrl\n",
    "from xcube.core.verify import assert_cube\n"
   ]
  },
  {
   "cell_type": "markdown",
   "id": "cef32aef-38c6-4a2d-b6ff-876059065e85",
   "metadata": {},
   "source": [
    "# Startup your Dask Cluster\n",
    "\n",
    "Create dask cluster as described in the [dask 101 guide](../pangeo101/dask101.ipynb)"
   ]
  },
  {
   "cell_type": "code",
   "execution_count": null,
   "id": "464ccc1d-c0fd-472c-987e-96eedd07f991",
   "metadata": {},
   "outputs": [],
   "source": [
    "from dask_gateway import Gateway\n",
    "gateway = Gateway()\n",
    "cluster = gateway.new_cluster()\n",
    "cluster.scale(2)\n",
    "client = cluster.get_client()\n",
    "client"
   ]
  },
  {
   "cell_type": "code",
   "execution_count": null,
   "id": "07e7c494-ae16-4556-b6b0-17a3b0cae7ae",
   "metadata": {},
   "outputs": [],
   "source": [
    "# or create a local dask cluster on a local machine.\n",
    "\n",
    "# from dask.distributed import Client\n",
    "# client = Client()   \n",
    "# client"
   ]
  },
  {
   "cell_type": "markdown",
   "id": "94aed832-94cf-4431-8f56-f87d020b5760",
   "metadata": {},
   "source": [
    "# Load the Data"
   ]
  },
  {
   "cell_type": "code",
   "execution_count": null,
   "id": "eb9069e4-6606-4457-8c5b-704b5b941d1c",
   "metadata": {},
   "outputs": [],
   "source": [
    "http_url = \"https://s3.waw4-1.cloudferro.com/EarthCODE/OSCAssets/seasfire/seasfire_v0.4.zarr/\"\n",
    "\n",
    "ds = xarray.open_dataset(\n",
    "\thttp_url,\n",
    "\tengine='zarr',\n",
    "    chunks={},\n",
    "\tconsolidated=True\n",
    "\t# storage_options = {'token': 'anon'}\n",
    ")\n",
    "ds"
   ]
  },
  {
   "cell_type": "markdown",
   "id": "97ce1b58-c803-4170-85d4-2cd32ea60937",
   "metadata": {},
   "source": []
  },
  {
   "cell_type": "markdown",
   "id": "4a609134-e1d1-4d01-9b6a-e061d732c4e2",
   "metadata": {},
   "source": [
    "# Forest Fires Search\n",
    "\n",
    "Search for a forest fire in Europe over the last couple of years using the Burned Areas data from Global Wildfire Information System (GWIS)\n"
   ]
  },
  {
   "cell_type": "code",
   "execution_count": null,
   "id": "fade082d-87d8-4c35-aac2-67b347dc67c1",
   "metadata": {},
   "outputs": [],
   "source": [
    "gwis = ds.gwis_ba\n",
    "gwis"
   ]
  },
  {
   "cell_type": "markdown",
   "id": "36efba09-2d99-4137-a63a-e659e08882fa",
   "metadata": {},
   "source": [
    "We load our area of interest file from the previous stage"
   ]
  },
  {
   "cell_type": "code",
   "execution_count": null,
   "id": "72b5ff45-a257-4a7f-be39-22d0079fe7b3",
   "metadata": {},
   "outputs": [],
   "source": [
    "with open(\"../aoi/feature.json\") as f:\n",
    "    feature = json.load(f)\n",
    "\n",
    "poly = geometry.shape(feature[\"geometry\"])\n",
    "bbox = list(poly.bounds)\n",
    "\n",
    "polygon = gpd.GeoDataFrame(index=[0], crs=\"epsg:4326\", geometry=[geometry.box(*bbox)])\n",
    "min_lon, min_lat, max_lon, max_lat = polygon.total_bounds\n",
    "\n",
    "lat_start = gwis.latitude.sel(latitude=max_lat, method=\"nearest\").item()\n",
    "lat_stop  = gwis.latitude.sel(latitude=min_lat, method=\"nearest\").item()\n",
    "lon_start = gwis.longitude.sel(longitude=min_lon, method=\"nearest\").item()\n",
    "lon_stop  = gwis.longitude.sel(longitude=max_lon, method=\"nearest\").item()"
   ]
  },
  {
   "cell_type": "markdown",
   "id": "b91c1abb-f4c9-4dab-b304-59dd136340b3",
   "metadata": {},
   "source": [
    "# Masking\n",
    "\n",
    "To extract only the relevant land data we apply the land mask supplied in the dataset"
   ]
  },
  {
   "cell_type": "code",
   "execution_count": null,
   "id": "96bc33b8-99ff-4c46-a2d2-d01eb8a16bca",
   "metadata": {},
   "outputs": [],
   "source": [
    "## in SeasFire Datacube v2.0 the burned area variables would have the water bodies masked with ERA-5 land sea mask \n",
    "mask= ds['lsm']\n",
    "mask"
   ]
  },
  {
   "cell_type": "markdown",
   "id": "bf2782e3-163e-40a0-8179-8b59932da82c",
   "metadata": {},
   "source": [
    "Now after loading the data we need, we will find the date of the biggest forest fire during the last three years within that place"
   ]
  },
  {
   "cell_type": "code",
   "execution_count": null,
   "id": "13d33b7a-61a3-468a-9759-9101d627d1a2",
   "metadata": {},
   "outputs": [],
   "source": [
    "gwis_aoi = gwis.sel(time=slice('2018-01-01','2021-01-01'), latitude=slice(lat_start, lat_stop),longitude=slice(lon_start, lon_stop))"
   ]
  },
  {
   "cell_type": "code",
   "execution_count": null,
   "id": "a95f71db-2fad-4be2-8e6a-5dafc48ee6a7",
   "metadata": {},
   "outputs": [],
   "source": [
    "# date where the sum in the plot is the highest\n",
    "date_max_fire = gwis_aoi.sum(dim={'latitude','longitude'}).idxmax(dim='time').compute()\n",
    "date_max_fire"
   ]
  },
  {
   "cell_type": "code",
   "execution_count": null,
   "id": "c6348a6c-20a1-482b-bf3d-9e7dc6ae29f2",
   "metadata": {},
   "outputs": [],
   "source": [
    "biggest_fire_aoi = gwis_aoi.sel(time=date_max_fire)\n",
    "biggest_fire_aoi"
   ]
  },
  {
   "cell_type": "markdown",
   "id": "7bb13e92-0c81-4fd5-8986-671d9363f1af",
   "metadata": {},
   "source": [
    "Plot the forest fire areas to get an idea about our data"
   ]
  },
  {
   "cell_type": "code",
   "execution_count": null,
   "id": "83b95b98-5dcb-449c-bb80-d9abc4648ef6",
   "metadata": {},
   "outputs": [],
   "source": [
    "# gwis_all=gwis.resample(time=\"1Y\").sum()\n",
    "biggest_fire_aoi = biggest_fire_aoi.where(mask)\n",
    "biggest_fire_aoi.plot()\n"
   ]
  },
  {
   "cell_type": "markdown",
   "id": "52784474-6db5-4e9d-a080-6fd8bee5bf0a",
   "metadata": {},
   "source": [
    "In the Pangeo stack there are visualization tools that can help us easily plot data in a more interactive way, with a simple interface, e.g. hvplot"
   ]
  },
  {
   "cell_type": "code",
   "execution_count": null,
   "id": "b8e2578e-c9e7-4a8f-a06c-cf5cdd5656b9",
   "metadata": {},
   "outputs": [],
   "source": [
    "\n",
    "# Plot it interactively, with some context\n",
    "biggest_fire_aoi.hvplot(\n",
    "    x='longitude',\n",
    "    y='latitude',\n",
    "    cmap='viridis',\n",
    "    colorbar=True,\n",
    "    frame_width=600,\n",
    "    frame_height=400,\n",
    "    geo=True,\n",
    "    tiles='OSM'\n",
    ")\n"
   ]
  },
  {
   "cell_type": "code",
   "execution_count": null,
   "id": "7fb06b99-6846-4cf1-97e3-d0d5818f258e",
   "metadata": {},
   "outputs": [],
   "source": [
    "fire_date_t = pd.to_datetime(date_max_fire.values.item()) # get the date of the forest fire and a the dates before and after it\n",
    "week_before = (fire_date_t - timedelta(days=7))\n",
    "week_after = (fire_date_t + timedelta(days=7))"
   ]
  },
  {
   "cell_type": "code",
   "execution_count": null,
   "id": "cfcea67e-ae5e-4764-bbdf-58541a72688b",
   "metadata": {},
   "outputs": [],
   "source": [
    "print(week_before.date(), \"---\" , week_after.date())"
   ]
  },
  {
   "cell_type": "code",
   "execution_count": null,
   "id": "5c607a81-ba61-485b-9d7b-7dfa779b21a0",
   "metadata": {},
   "outputs": [],
   "source": [
    "index_name = 'NBR'\n",
    "\n",
    "bandnames_dict = {\n",
    "    'nir': 'nir',\n",
    "    'swir22': 'swir22'\n",
    "}\n",
    "\n",
    "# Normalised Burn Ratio, Lopez Garcia 1991\n",
    "def calc_nbr(ds):\n",
    "    return (ds.nir - ds.swir22) / (ds.nir + ds.swir22)\n",
    "\n",
    "index_dict = {'NBR': calc_nbr}\n",
    "index_dict"
   ]
  },
  {
   "cell_type": "code",
   "execution_count": null,
   "id": "26e746ce-8b40-4299-b06e-173ff0743e3c",
   "metadata": {},
   "outputs": [],
   "source": [
    "catalog = pystac_client.open(\"https://earth-search.aws.element84.com/v1\")\n",
    "chunk={}"
   ]
  },
  {
   "cell_type": "code",
   "execution_count": null,
   "id": "b08b52ea-30cb-41c1-9236-cf35f6e94f45",
   "metadata": {},
   "outputs": [],
   "source": [
    "week_before_start = (week_before - timedelta(days=30))\n",
    "time_range = str(week_before_start.date()) + \"/\" + str(week_before.date())\n",
    "\n",
    "query1 = catalog.search(\n",
    "    collections=[\"sentinel-2-l2a\"], datetime=time_range, limit=100,\n",
    "    bbox=bbox, query={\"eo:cloud_cover\": {\"lt\": 0.5}}\n",
    ")\n",
    "\n",
    "items = list(query1.items())\n",
    "print(f\"Found: {len(items):d} datasets\")\n",
    "\n",
    "items_pre = min(items, key=lambda item: item.properties[\"eo:cloud_cover\"])\n",
    "\n",
    "prefire_ds = stac_load(\n",
    "    [items_pre],\n",
    "    bands=(\"nir\", \"swir22\"),\n",
    "    chunks=chunk,  # <-- use Dask\n",
    "    groupby=\"datetime\",\n",
    "    bbox=bbox,\n",
    ")\n",
    "prefire_ds"
   ]
  },
  {
   "cell_type": "code",
   "execution_count": null,
   "id": "9fe7055b-5782-4af6-9c10-94819659ffe1",
   "metadata": {},
   "outputs": [],
   "source": [
    "week_after_end = (week_after + timedelta(days=30))\n",
    "time_range = str(week_after.date()) + \"/\" + str(week_after_end.date())\n",
    "\n",
    "query2 = catalog.search(\n",
    "    collections=[\"sentinel-2-l2a\"], datetime=time_range, limit=100,\n",
    "    bbox=bbox, query={\"eo:cloud_cover\": {\"lt\": 0.5}}\n",
    ")\n",
    "\n",
    "items = list(query2.items())\n",
    "print(f\"Found: {len(items):d} datasets\")\n",
    "\n",
    "items_post = min(items, key=lambda item: item.properties[\"eo:cloud_cover\"])\n",
    "\n",
    "postfire_ds = stac_load(\n",
    "    [items_post],\n",
    "    bands=(\"nir\", \"swir22\"),\n",
    "    chunks=chunk,  # <-- use Dask\n",
    "    groupby=\"datetime\",\n",
    "    bbox=bbox,\n",
    ")\n",
    "postfire_ds"
   ]
  },
  {
   "cell_type": "code",
   "execution_count": null,
   "id": "a4362690-e4ab-4074-9095-672edb85787a",
   "metadata": {},
   "outputs": [],
   "source": [
    "# Rename bands in dataset to use simple names \n",
    "bands_to_rename = {\n",
    "    a: b for a, b in bandnames_dict.items() if a in prefire_ds.variables\n",
    "}\n",
    "\n",
    "# prefire\n",
    "prefire_ds[index_name] = index_dict[index_name](prefire_ds.rename(bands_to_rename) / 10000.0)\n",
    "\n",
    "# postfire\n",
    "postfire_ds[index_name] = index_dict[index_name](postfire_ds.rename(bands_to_rename) / 10000.0)\n"
   ]
  },
  {
   "cell_type": "code",
   "execution_count": null,
   "id": "9f594ea4-3091-48fd-9a70-8f26fdd94054",
   "metadata": {},
   "outputs": [],
   "source": [
    "# calculate delta NBR\n",
    "prefire_burnratio = prefire_ds.NBR.isel(time=0)\n",
    "postfire_burnratio = postfire_ds.NBR.isel(time=0)\n",
    "\n",
    "delta_NBR = prefire_burnratio - postfire_burnratio\n",
    "\n",
    "dnbr_dataset = delta_NBR.to_dataset(name='delta_NBR').persist() # <--- load and keep data into your workers"
   ]
  },
  {
   "cell_type": "code",
   "execution_count": null,
   "id": "da7e1aca-5885-4f86-8d50-951ed9b2182f",
   "metadata": {},
   "outputs": [],
   "source": [
    "dnbr_dataset\n",
    "delta_NBR"
   ]
  },
  {
   "cell_type": "code",
   "execution_count": null,
   "id": "5358844d-1afc-4d5d-aa68-eb07c39b029c",
   "metadata": {},
   "outputs": [],
   "source": [
    "fig = plt.figure(1, figsize=[7, 10])\n",
    "\n",
    "# We're using cartopy and are plotting in PlateCarree projection \n",
    "# (see documentation on cartopy)\n",
    "ax = plt.subplot(1, 1, 1, projection=ccrs.PlateCarree())\n",
    "ax.coastlines(resolution='10m')\n",
    "ax.gridlines(draw_labels=True)\n",
    "\n",
    "# We need to project our data to the new Orthographic projection and for this we use `transform`.\n",
    "# we set the original data projection in transform (here Mercator)\n",
    "prefire_burnratio.plot(ax=ax, transform=ccrs.epsg(prefire_burnratio.spatial_ref.values), cmap='RdBu_r',\n",
    "                       cbar_kwargs={'orientation':'horizontal','shrink':0.95})\n",
    "\n",
    "# One way to customize your title\n",
    "plt.title( pd.to_datetime(prefire_burnratio.time.values.item()).strftime(\"%d %B %Y\"), fontsize=18)"
   ]
  },
  {
   "cell_type": "code",
   "execution_count": null,
   "id": "902ddf95-672f-432f-b1b2-047b4f4a54ee",
   "metadata": {},
   "outputs": [],
   "source": [
    "fig = plt.figure(1, figsize=[7, 9])\n",
    "\n",
    "# We're using cartopy and are plotting in PlateCarree projection \n",
    "# (see documentation on cartopy)\n",
    "ax = plt.subplot(1, 1, 1, projection=ccrs.PlateCarree())\n",
    "ax.coastlines(resolution='10m')\n",
    "ax.gridlines(draw_labels=True)\n",
    "\n",
    "# We need to project our data to the new Orthographic projection and for this we use `transform`.\n",
    "# we set the original data projection in transform (here Mercator)\n",
    "postfire_burnratio.plot(ax=ax, transform=ccrs.epsg(postfire_burnratio.spatial_ref.values), cmap='RdBu_r',\n",
    "                        cbar_kwargs={'orientation':'horizontal','shrink':0.95})\n",
    "\n",
    "# One way to customize your title\n",
    "plt.title( pd.to_datetime(postfire_burnratio.time.values.item()).strftime(\"%d %B %Y\"), fontsize=18)"
   ]
  },
  {
   "cell_type": "code",
   "execution_count": null,
   "id": "14caa7b7-7026-4039-8da4-02a1394d40ab",
   "metadata": {},
   "outputs": [],
   "source": [
    "fig = plt.figure(1, figsize=[7, 10])\n",
    "\n",
    "# We're using cartopy and are plotting in PlateCarree projection \n",
    "# (see documentation on cartopy)\n",
    "ax = plt.subplot(1, 1, 1, projection=ccrs.PlateCarree())\n",
    "ax.coastlines(resolution='10m')\n",
    "ax.gridlines(draw_labels=True)\n",
    "\n",
    "# We need to project our data to the new Orthographic projection and for this we use `transform`.\n",
    "# we set the original data projection in transform (here Mercator)\n",
    "dnbr_dataset.delta_NBR.plot(ax=ax, transform=ccrs.epsg(dnbr_dataset.delta_NBR.spatial_ref.values), cmap='RdBu_r',\n",
    "                            cbar_kwargs={'orientation':'horizontal','shrink':0.95})\n",
    "\n",
    "# One way to customize your title\n",
    "plt.title( \"Delta NBR\", fontsize=18)"
   ]
  },
  {
   "cell_type": "markdown",
   "id": "f20ce2a3-d72c-4d98-886a-6765a7cde16b",
   "metadata": {},
   "source": [
    "https://un-spider.org/advisory-support/recommended-practices/recommended-practice-burn-severity/in-detail/normalized-burn-ratio\n",
    "\n",
    "![img](https://un-spider.org/sites/default/files/table+legend.PNG)"
   ]
  },
  {
   "cell_type": "code",
   "execution_count": null,
   "id": "3ceebd22-b673-4bee-9489-d7f22904fc76",
   "metadata": {},
   "outputs": [],
   "source": [
    "BURN_THRESH = 0.27\n",
    "burn_mask = dnbr_dataset.delta_NBR > BURN_THRESH           # True/False mask, same shape as raster\n",
    "burn_mask.plot()"
   ]
  },
  {
   "cell_type": "code",
   "execution_count": null,
   "id": "95e1af97-4521-471c-99fb-6e934e2a3300",
   "metadata": {},
   "outputs": [],
   "source": [
    "dx, dy = dnbr_dataset.delta_NBR.rio.resolution()\n",
    "pixel_area_ha = abs(dx * dy) / 1e4       # 10m × 10m  → 0.01 ha\n",
    "pixel_area_ha\n",
    "\n",
    "pixels_burned   = burn_mask.sum().compute().item()   # integer number of burned pixels\n",
    "burned_area_ha  = pixels_burned * pixel_area_ha\n",
    "\n",
    "print(f\"Pixels burned : {pixels_burned:,d}\")\n",
    "print(f\"Burned area   : {burned_area_ha:,.2f} ha\")\n",
    "print(f\"Actual Burned Area : {biggest_fire_aoi.sum().compute():,.2f}, ha\")"
   ]
  },
  {
   "cell_type": "code",
   "execution_count": null,
   "id": "d16bcf9a-71cf-46b0-8a3b-bf72b3e7d786",
   "metadata": {},
   "outputs": [],
   "source": [
    "dnbr_dataset['burned_ha_mask'] = burn_mask"
   ]
  },
  {
   "cell_type": "code",
   "execution_count": null,
   "id": "51d402ab-41cd-4dba-b5d2-39f5d949c92a",
   "metadata": {},
   "outputs": [],
   "source": [
    "dnbr_dataset = dnbr_dataset.persist()\n",
    "biggest_fire_aoi = biggest_fire_aoi.persist()\n",
    "\n",
    "\n",
    "# r_dnbr_dataset = dnbr_dataset.rename({'x': 'lon', 'y': 'lat'})\n",
    "# r_gwis_all = gwis_all.rename({'longitude': 'lon', 'latitude': 'lat'})"
   ]
  },
  {
   "cell_type": "code",
   "execution_count": null,
   "id": "a2e24d9f-d8a8-4879-9145-68327b0268bb",
   "metadata": {},
   "outputs": [],
   "source": [
    "biggest_fire_aoi = biggest_fire_aoi.rio.write_crs(ds.rio.crs)"
   ]
  },
  {
   "cell_type": "markdown",
   "id": "dea004b6-30dc-4ffa-a20b-32f1abd6deed",
   "metadata": {},
   "source": [
    "Plot is off because of bad projection (curcilinear to rectilinear) but we can see that generally the fires are in the north-west/north-east regions with two distinct occurances"
   ]
  },
  {
   "cell_type": "code",
   "execution_count": null,
   "id": "792f1959-938a-41d9-8673-7f030608e7ff",
   "metadata": {},
   "outputs": [],
   "source": [
    "biggest_fire_aoi_reprojected = biggest_fire_aoi.rio.reproject(dnbr_dataset.delta_NBR.rio.crs)\n",
    "\n",
    "dnbr_plot = dnbr_dataset.delta_NBR.hvplot(\n",
    "    width=700,\n",
    "    height=700,\n",
    "    title='dNBR (10 m) with GWIS overlay',\n",
    "    alpha=1.0\n",
    ")\n",
    "\n",
    "# Plot the reprojected coarse dataset as transparent overlay\n",
    "gwis_plot = biggest_fire_aoi_reprojected.hvplot(\n",
    "    cmap='Reds',\n",
    "    alpha=0.3,\n",
    "    clim=(0, biggest_fire_aoi.max().compute().item())\n",
    ")\n",
    "\n",
    "# Combine them interactively\n",
    "combined_plot = dnbr_plot * gwis_plot\n",
    "\n",
    "combined_plot\n"
   ]
  },
  {
   "cell_type": "markdown",
   "id": "b2a2508b-51de-40b7-9268-55352aebb8b3",
   "metadata": {},
   "source": [
    "# Saving Your Work\n",
    "\n",
    "xrlint and validate your cube..."
   ]
  },
  {
   "cell_type": "code",
   "execution_count": null,
   "id": "af87fe44-6081-4600-8a49-59d6596596a3",
   "metadata": {},
   "outputs": [],
   "source": [
    "linter = xrl.new_linter(\"recommended\")\n",
    "linter.validate(dnbr_dataset)\n"
   ]
  },
  {
   "cell_type": "markdown",
   "id": "18400a43-7aec-480f-ad15-17cbb7eddb53",
   "metadata": {},
   "source": [
    "# Add metadata descriptions to our data\n",
    "\n",
    "As a best practices, it's recommended to have a well described data cube. Tools such as xrlint help guide what standards to apply so that you can have consistent and standard metadata across your published datasets"
   ]
  },
  {
   "cell_type": "code",
   "execution_count": null,
   "id": "27975471-0a3b-4a8d-ae9d-0cbe281fe265",
   "metadata": {},
   "outputs": [],
   "source": [
    "# Assign dataset-level attributes\n",
    "dnbr_dataset.attrs.update({\n",
    "    'title': 'Delta NBR and Burned Area Mask Dataset',\n",
    "    'history': 'Created by reprojecting and aligning datasets for fire severity analysis',\n",
    "    'Conventions': 'CF-1.7'\n",
    "})\n",
    "\n",
    "\n",
    "# Assign variable-level attributes for delta_NBR\n",
    "dnbr_dataset.delta_NBR.attrs.update({\n",
    "    'institution': 'Lampata',\n",
    "    'source': 'Sentinel-2 imagery; processed with open-source dNBR code, element84...',\n",
    "    'references': 'https://example.com/ref',\n",
    "    'comment': 'dNBR values represent change in vegetation severity post-fire',\n",
    "    'standard_name': 'difference_normalized_burn_ratio',\n",
    "    'long_name': 'Differenced Normalized Burn Ratio (dNBR)',\n",
    "    'units': 'm'\n",
    "})\n",
    "\n",
    "# Example for burned_ha_mask data variable\n",
    "dnbr_dataset.burned_ha_mask.attrs.update({\n",
    "    'standard_name': 'burned_area_mask',\n",
    "    'long_name': 'Burned Area Mask in Hectares',\n",
    "    'units': 'hectares',\n",
    "    'institution': 'Your Institution Name',\n",
    "    'source': 'Derived from wildfire impact analysis',\n",
    "    'references': 'https://example.com/ref',\n",
    "    'comment': 'Burned area mask showing presence of burned areas'\n",
    "})\n"
   ]
  },
  {
   "cell_type": "markdown",
   "id": "06807528-f2ee-4ec3-8892-17189966dd9c",
   "metadata": {},
   "source": [
    "# Assert Cube\n",
    "\n",
    "There are other tools available as well such as xcube's assert cube which validates our data cube (e.g. dimensions, chunks, grids between dataarray's match)"
   ]
  },
  {
   "cell_type": "code",
   "execution_count": null,
   "id": "915b6804-6c2a-4e4f-b31e-110b34bea418",
   "metadata": {},
   "outputs": [],
   "source": [
    "\n",
    "assert_cube(dnbr_dataset)  # raises ValueError if it's not xcube-valid\n"
   ]
  },
  {
   "cell_type": "code",
   "execution_count": null,
   "id": "aaafa64b-614f-4fa4-9e61-5e47a2804ac1",
   "metadata": {},
   "outputs": [],
   "source": [
    "# add time\n",
    "dnbr_dataset = dnbr_dataset.expand_dims(time=[postfire_ds.time.isel(time=0).values])\n",
    "dnbr_dataset"
   ]
  },
  {
   "cell_type": "markdown",
   "id": "34a6396c-f8f7-4500-9b75-1f6ea8b1b134",
   "metadata": {},
   "source": [
    "Chunk Data for Better Usability for future users"
   ]
  },
  {
   "cell_type": "code",
   "execution_count": null,
   "id": "32f2dd0c-4cca-4aad-8dc9-d1f6161670dc",
   "metadata": {},
   "outputs": [],
   "source": [
    "dnbr_dataset = dnbr_dataset.chunk({\"time\": 1, \"y\": 1000, \"x\": 1000})\n"
   ]
  },
  {
   "cell_type": "code",
   "execution_count": null,
   "id": "63b937fa-a556-4d96-a09c-8a946a1a2a20",
   "metadata": {},
   "outputs": [],
   "source": [
    "print(type(dnbr_dataset.burned_ha_mask.data)) # check data format "
   ]
  },
  {
   "cell_type": "code",
   "execution_count": null,
   "id": "203e699c-3b6b-480f-903a-7d957dfdd062",
   "metadata": {},
   "outputs": [],
   "source": [
    "\n",
    "save_at_folder = '../wildfires'\n",
    "if not os.path.exists(save_at_folder):\n",
    "    os.makedirs(save_at_folder)\n",
    "\n",
    "# Define the output path within your notebook folder\n",
    "output_path = os.path.join(save_at_folder, \"dnbr_dataset.zarr\")\n",
    "\n",
    "# save\n",
    "dnbr_dataset.to_zarr(output_path, mode=\"w\")"
   ]
  }
 ],
 "metadata": {
  "kernelspec": {
   "display_name": "Python [conda env:pangeo] *",
   "language": "python",
   "name": "conda-env-pangeo-py"
  },
  "language_info": {
   "codemirror_mode": {
    "name": "ipython",
    "version": 3
   },
   "file_extension": ".py",
   "mimetype": "text/x-python",
   "name": "python",
   "nbconvert_exporter": "python",
   "pygments_lexer": "ipython3",
   "version": "3.13.3"
  },
  "widgets": {
   "application/vnd.jupyter.widget-state+json": {
    "state": {},
    "version_major": 2,
    "version_minor": 0
   }
  }
 },
 "nbformat": 4,
 "nbformat_minor": 5
}
