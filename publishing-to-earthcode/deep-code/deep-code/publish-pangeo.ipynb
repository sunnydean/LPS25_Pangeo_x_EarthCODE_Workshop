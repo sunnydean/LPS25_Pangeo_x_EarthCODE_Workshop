{
 "cells": [
  {
   "cell_type": "code",
   "execution_count": null,
   "id": "41bdebb9-a414-45aa-adf4-a20ad8bd44ed",
   "metadata": {},
   "outputs": [],
   "source": [
    "from deep_code.tools.publish import Publisher\n",
    "from dotenv import load_dotenv\n",
    "import os\n",
    "\n",
    "# https://eu-west-2.console.aws.amazon.com/s3/buckets/pangeo-test-fires/object/delete?region=eu-west-2&bucketType=general&showversions=false\n"
   ]
  },
  {
   "cell_type": "code",
   "execution_count": null,
   "id": "d03120d0-22e9-4f2b-b3b9-efc8a9dc8010",
   "metadata": {},
   "outputs": [],
   "source": [
    "# remember -> .gitaccess as described in deep-code\n",
    "# github-username: username\n",
    "# github-token: pat\n",
    "\n",
    "# and a valid .env with s3 details \n",
    "# S3_USER_STORAGE_BUCKET=\n",
    "# S3_USER_STORAGE_KEY=\n",
    "# S3_USER_STORAGE_SECRET=\n",
    "# AWS_DEFAULT_REGION=eu-west-2%                                                                                                                                       \n",
    "\n",
    "load_dotenv()  # take environment variables\n"
   ]
  },
  {
   "cell_type": "code",
   "execution_count": null,
   "id": "79e25c8c-49ba-42c5-bb34-597ed464acca",
   "metadata": {},
   "outputs": [],
   "source": [
    "!printenv | grep S3"
   ]
  },
  {
   "cell_type": "code",
   "execution_count": null,
   "id": "53b89f75-62aa-4bae-bc30-88b9ce30d9ea",
   "metadata": {},
   "outputs": [],
   "source": [
    "import os\n",
    "\n",
    "# Get the absolute path of the notebook\n",
    "# Jupyter notebooks don’t have __file__, so usually you set it manually\n",
    "notebook_path = os.path.abspath(\"publish-pangeo.ipynb\")\n",
    "notebook_dir = os.path.dirname(notebook_path)\n",
    "\n",
    "# Change working directory\n",
    "os.chdir(notebook_dir)\n",
    "\n",
    "# Confirm\n",
    "print(\"Current Working Directory:\", os.getcwd())"
   ]
  },
  {
   "cell_type": "code",
   "execution_count": null,
   "id": "a8ec1afc-b0da-4f89-bc3d-d9424e82b414",
   "metadata": {},
   "outputs": [],
   "source": []
  },
  {
   "cell_type": "code",
   "execution_count": null,
   "id": "5a6213f0-dbfd-45df-a65b-153a0f0e640d",
   "metadata": {},
   "outputs": [],
   "source": [
    "# Walkthrough in a nutshell creating a publically accessible s3 storage bucket"
   ]
  },
  {
   "cell_type": "code",
   "execution_count": null,
   "id": "720dfba8-e392-48ce-945c-f9dc479de8e0",
   "metadata": {},
   "outputs": [],
   "source": [
    "# uploaded at: https://pangeo-test-fires.s3.eu-west-2.amazonaws.com/dnbr_dataset.zarr/.zattrs\n",
    "\n",
    "\n",
    "\n",
    "# import xarray as xr\n",
    "# from xcube.core.store import new_data_store\n",
    "\n",
    "# # store data on s3\n",
    "# root=\"pangeo-test-fires\"\n",
    "\n",
    "# # Path to the local Zarr dataset\n",
    "# zarr_path = \"../../../wildfires/dnbr_dataset.zarr\"\n",
    "\n",
    "# # Open the Zarr dataset\n",
    "# ds = xr.open_zarr(zarr_path)\n",
    "\n",
    "# ds\n",
    "\n",
    "# store = new_data_store(\n",
    "#     \"s3\",\n",
    "#     root=root,\n",
    "#     storage_options={\n",
    "#                 \"anon\": False,\n",
    "#                 \"key\": os.environ.get(\"S3_USER_STORAGE_KEY\"),\n",
    "#                 \"secret\": os.environ.get(\"S3_USER_STORAGE_SECRET\"),\n",
    "#                 \"client_kwargs\": {\n",
    "#                 \"endpoint_url\": \"https://s3.eu-west-2.amazonaws.com\",\n",
    "#                 \"region_name\": os.environ.get(\"AWS_DEFAULT_REGION\")\n",
    "#             }\n",
    "#             },\n",
    "    \n",
    "# )\n",
    "# store.write_data(ds, \"dnbr_dataset.zarr\", replace=True)"
   ]
  },
  {
   "cell_type": "code",
   "execution_count": null,
   "id": "fe46db24-b8d6-4570-8938-b1c7083a6c7c",
   "metadata": {},
   "outputs": [],
   "source": [
    "os.chdir(notebook_dir)"
   ]
  },
  {
   "cell_type": "code",
   "execution_count": null,
   "id": "5726acb7-4c9a-4143-89be-d991ede967f1",
   "metadata": {},
   "outputs": [],
   "source": [
    "dataset_config=\"\"\"\n",
    "dataset_id: dnbr_dataset.zarr\n",
    "collection_id: pangeo-test\n",
    "osc_themes:\n",
    "- 'land'\n",
    "documentation_link: https://www.sciencedirect.com/science/article/pii/S1470160X22004708#f0035\n",
    "access_link: s3://pangeo-test-fires\n",
    "dataset_status: completed\n",
    "osc_region: global\n",
    "cf_parameter:\n",
    "  - name: burned_area\n",
    "\"\"\"\n",
    "\n",
    "with open(\"dataset_config.yaml\", 'w') as f:\n",
    "    f.write(dataset_config)"
   ]
  },
  {
   "cell_type": "code",
   "execution_count": null,
   "id": "560f6af4-4a19-4721-be3b-0dc4c1bec64d",
   "metadata": {},
   "outputs": [],
   "source": [
    "workflow_config=\"\"\"\n",
    "workflow_id: \"dnbr_workflow_example\"\n",
    "properties:\n",
    "  title: \"DNBR Workflow Example\"\n",
    "  description: \"Demonstrate how to fetch satellite Sentinel-2 data to generate burn severity maps for the assessment of the areas affected by wildfires.\"\n",
    "  keywords:\n",
    "    - Earth Science\n",
    "  themes:\n",
    "      - land\n",
    "  license: proprietary\n",
    "  jupyter_kernel_info:\n",
    "    name: Pange-Test-Notebook\n",
    "    python_version: 3.11\n",
    "    env_file: \"https://github.com/pangeo-data/pangeo-docker-images/blob/master/pangeo-notebook/environment.yml\"\n",
    "jupyter_notebook_url: \"https://github.com/pangeo-data/pangeo-openeo-BiDS-2023/blob/main/tutorial/examples/dask/wildfires_daskgateway.ipynb\"\n",
    "contact:\n",
    "  - name: Dean Summers\n",
    "    organization: Lampata\n",
    "    links:\n",
    "      - rel: \"about\"\n",
    "        type: \"text/html\"\n",
    "        href: \"https://www.lampata.eu/\"\n",
    "\"\"\"\n",
    "\n",
    "with open(\"workflow_config.yaml\", 'w') as f:\n",
    "    f.write(workflow_config)"
   ]
  },
  {
   "cell_type": "code",
   "execution_count": null,
   "id": "65a4330c-a71d-4110-83f0-f8370031b44a",
   "metadata": {},
   "outputs": [],
   "source": [
    "# !git config --global user.email \"dean@lampata.co.uk\"\n",
    "# !git config --global user.name \"Dean S\""
   ]
  },
  {
   "cell_type": "code",
   "execution_count": null,
   "id": "a694fcf4-75b8-4def-b9b6-c49ce3d02f5c",
   "metadata": {},
   "outputs": [],
   "source": [
    "\n",
    "publisher = Publisher(\n",
    "    dataset_config_path=\"dataset_config.yaml\",\n",
    "    workflow_config_path=\"workflow_config.yaml\",\n",
    "    environment=\"staging\",\n",
    ")\n",
    "publisher.publish_all()\n"
   ]
  },
  {
   "cell_type": "code",
   "execution_count": null,
   "id": "9f833a7c-7b11-402e-b8a7-d98c3cb62e70",
   "metadata": {},
   "outputs": [],
   "source": [
    "# Change back to working directory\n",
    "os.chdir(notebook_dir)\n",
    "!pwd"
   ]
  },
  {
   "cell_type": "code",
   "execution_count": null,
   "id": "b98eb63c-b251-4c35-9170-35d26fdc2410",
   "metadata": {},
   "outputs": [],
   "source": [
    "# https://gcmd.earthdata.nasa.gov/KeywordViewer/scheme/Earth%20Science/436b098d-e4d9-4fbd-9ede-05675e111eee?gtm_keyword=BURNED%20AREA&gtm_scheme=Earth%20Science"
   ]
  },
  {
   "cell_type": "code",
   "execution_count": null,
   "id": "c9344e16-730c-4e97-acbe-e32e26f72bec",
   "metadata": {},
   "outputs": [],
   "source": []
  },
  {
   "cell_type": "code",
   "execution_count": null,
   "id": "978daa58-385c-48ed-b1b0-0dced87c586b",
   "metadata": {},
   "outputs": [],
   "source": []
  },
  {
   "cell_type": "code",
   "execution_count": null,
   "id": "291f884e-a278-499c-b5b0-e539916effc5",
   "metadata": {},
   "outputs": [],
   "source": []
  }
 ],
 "metadata": {
  "kernelspec": {
   "display_name": "Python [conda env:pangeo] *",
   "language": "python",
   "name": "conda-env-pangeo-py"
  },
  "language_info": {
   "codemirror_mode": {
    "name": "ipython",
    "version": 3
   },
   "file_extension": ".py",
   "mimetype": "text/x-python",
   "name": "python",
   "nbconvert_exporter": "python",
   "pygments_lexer": "ipython3",
   "version": "3.13.3"
  }
 },
 "nbformat": 4,
 "nbformat_minor": 5
}
