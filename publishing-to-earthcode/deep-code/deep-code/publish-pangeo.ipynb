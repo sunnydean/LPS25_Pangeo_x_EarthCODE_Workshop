{
 "cells": [
  {
   "cell_type": "code",
   "execution_count": null,
   "id": "c1454d55-7969-4e66-9b2c-fee939487f2f",
   "metadata": {},
   "outputs": [],
   "source": []
  },
  {
   "cell_type": "code",
   "execution_count": 2,
   "id": "41bdebb9-a414-45aa-adf4-a20ad8bd44ed",
   "metadata": {},
   "outputs": [
    {
     "ename": "ModuleNotFoundError",
     "evalue": "No module named 'deep_code'",
     "output_type": "error",
     "traceback": [
      "\u001b[0;31m---------------------------------------------------------------------------\u001b[0m",
      "\u001b[0;31mModuleNotFoundError\u001b[0m                       Traceback (most recent call last)",
      "Cell \u001b[0;32mIn[2], line 1\u001b[0m\n\u001b[0;32m----> 1\u001b[0m \u001b[38;5;28;01mfrom\u001b[39;00m\u001b[38;5;250m \u001b[39m\u001b[38;5;21;01mdeep_code\u001b[39;00m\u001b[38;5;21;01m.\u001b[39;00m\u001b[38;5;21;01mtools\u001b[39;00m\u001b[38;5;21;01m.\u001b[39;00m\u001b[38;5;21;01mpublish\u001b[39;00m\u001b[38;5;250m \u001b[39m\u001b[38;5;28;01mimport\u001b[39;00m Publisher\n\u001b[1;32m      3\u001b[0m \u001b[38;5;66;03m# remember -> .gitaccess and .env\u001b[39;00m\n\u001b[1;32m      4\u001b[0m \u001b[38;5;66;03m# https://eu-west-2.console.aws.amazon.com/s3/buckets/pangeo-test-fires/object/delete?region=eu-west-2&bucketType=general&showversions=false\u001b[39;00m\n",
      "\u001b[0;31mModuleNotFoundError\u001b[0m: No module named 'deep_code'"
     ]
    }
   ],
   "source": [
    "from deep_code.tools.publish import Publisher\n",
    "\n",
    "# remember -> .gitaccess and .env\n",
    "# https://eu-west-2.console.aws.amazon.com/s3/buckets/pangeo-test-fires/object/delete?region=eu-west-2&bucketType=general&showversions=false"
   ]
  },
  {
   "cell_type": "code",
   "execution_count": 2,
   "id": "915eebbc-5af1-41d9-8718-acc3abf7e3fd",
   "metadata": {},
   "outputs": [],
   "source": [
    "import os\n",
    "\n",
    "os.chdir(\"/home/lampata/Demo/deep-code\")\n",
    "\n",
    "def load_env_file(filepath=\".env\"):\n",
    "    with open(filepath, 'r') as f:\n",
    "        for line in f:\n",
    "            line = line.strip()\n",
    "            if not line or line.startswith('#'):\n",
    "                continue \n",
    "            if '=' in line:\n",
    "                key, value = line.split('=', 1)\n",
    "                key = key.strip()\n",
    "                value = value.strip().strip('\"').strip(\"'\") \n",
    "                os.environ[key] = value\n",
    "\n",
    "load_env_file()"
   ]
  },
  {
   "cell_type": "code",
   "execution_count": 3,
   "id": "e648b151-ba3d-47c4-940b-1db5d6a3baea",
   "metadata": {},
   "outputs": [],
   "source": [
    "\n",
    "os.chdir(\"/home/lampata/Demo/\")"
   ]
  },
  {
   "cell_type": "code",
   "execution_count": 4,
   "id": "720dfba8-e392-48ce-945c-f9dc479de8e0",
   "metadata": {},
   "outputs": [
    {
     "data": {
      "text/plain": [
       "'dnbr_dataset.zarr'"
      ]
     },
     "execution_count": 4,
     "metadata": {},
     "output_type": "execute_result"
    }
   ],
   "source": [
    "import xarray as xr\n",
    "from xcube.core.store import new_data_store\n",
    "\n",
    "# store data on s3\n",
    "root=\"pangeo-test-fires\"\n",
    "\n",
    "# Path to the local Zarr dataset\n",
    "zarr_path = \"wildfires-foss4g/dnbr_dataset.zarr\"\n",
    "\n",
    "# Open the Zarr dataset\n",
    "ds = xr.open_zarr(zarr_path)\n",
    "\n",
    "ds\n",
    "\n",
    "store = new_data_store(\n",
    "    \"s3\",\n",
    "    root=root,\n",
    "    storage_options={\n",
    "                \"anon\": False,\n",
    "                \"key\": os.environ.get(\"S3_USER_STORAGE_KEY\"),\n",
    "                \"secret\": os.environ.get(\"S3_USER_STORAGE_SECRET\"),\n",
    "                \"client_kwargs\": {\n",
    "                \"endpoint_url\": \"https://s3.eu-west-2.amazonaws.com\",\n",
    "                \"region_name\": os.environ.get(\"AWS_DEFAULT_REGION\")\n",
    "            }\n",
    "            },\n",
    "    \n",
    ")\n",
    "store.write_data(ds, \"dnbr_dataset.zarr\", replace=True)"
   ]
  },
  {
   "cell_type": "code",
   "execution_count": 6,
   "id": "141e1704-b09c-4f42-9552-55ff7645e849",
   "metadata": {},
   "outputs": [],
   "source": []
  },
  {
   "cell_type": "code",
   "execution_count": 7,
   "id": "57948f3f-0836-4d49-b910-751acd52fddf",
   "metadata": {},
   "outputs": [],
   "source": []
  },
  {
   "cell_type": "code",
   "execution_count": 5,
   "id": "fe46db24-b8d6-4570-8938-b1c7083a6c7c",
   "metadata": {},
   "outputs": [],
   "source": [
    "os.chdir(\"/home/lampata/Demo/deep-code\")"
   ]
  },
  {
   "cell_type": "code",
   "execution_count": 8,
   "id": "5726acb7-4c9a-4143-89be-d991ede967f1",
   "metadata": {},
   "outputs": [],
   "source": [
    "dataset_config=\"\"\"\n",
    "dataset_id: dnbr_dataset.zarr\n",
    "collection_id: pangeo-test\n",
    "osc_themes:\n",
    "- 'land'\n",
    "documentation_link: https://www.sciencedirect.com/science/article/pii/S1470160X22004708#f0035\n",
    "access_link: s3://pangeo-test-fires\n",
    "dataset_status: completed\n",
    "osc_region: global\n",
    "cf_parameter:\n",
    "  - name: burned-area\n",
    "\"\"\""
   ]
  },
  {
   "cell_type": "code",
   "execution_count": 9,
   "id": "560f6af4-4a19-4721-be3b-0dc4c1bec64d",
   "metadata": {},
   "outputs": [],
   "source": [
    "workflow_config=\"\"\"\n",
    "workflow_id: \"dnbr_workflow_example\"\n",
    "properties:\n",
    "  title: \"DNBR Workflow Example\"\n",
    "  description: \"Demonstrate how to fetch satellite Sentinel-2 data to generate burn severity maps for the assessment of the areas affected by wildfires.\"\n",
    "  keywords:\n",
    "    - Earth Science\n",
    "  themes:\n",
    "      - land\n",
    "  license: proprietary\n",
    "  jupyter_kernel_info:\n",
    "    name: Pange-Test-Notebook\n",
    "    python_version: 3.11\n",
    "    env_file: \"https://github.com/pangeo-data/pangeo-docker-images/blob/master/pangeo-notebook/environment.yml\"\n",
    "jupyter_notebook_url: \"https://github.com/pangeo-data/pangeo-openeo-BiDS-2023/blob/main/tutorial/examples/dask/wildfires_daskgateway.ipynb\"\n",
    "contact:\n",
    "  - name: Dean Summers\n",
    "    organization: Lampata\n",
    "    links:\n",
    "      - rel: \"about\"\n",
    "        type: \"text/html\"\n",
    "        href: \"https://www.lampata.eu/\"\n",
    "\"\"\""
   ]
  },
  {
   "cell_type": "code",
   "execution_count": null,
   "id": "e7963aab-12b6-40c3-abfe-df3b689c4068",
   "metadata": {},
   "outputs": [],
   "source": []
  },
  {
   "cell_type": "code",
   "execution_count": 10,
   "id": "94973fba-2d8b-4f82-8391-48e235793689",
   "metadata": {},
   "outputs": [],
   "source": [
    "with open(\"workflow_config.yaml\", 'w') as f:\n",
    "    f.write(workflow_config)"
   ]
  },
  {
   "cell_type": "code",
   "execution_count": 11,
   "id": "de9761c9-4cf5-4494-8742-b0743ba267f6",
   "metadata": {},
   "outputs": [],
   "source": [
    "with open(\"dataset_config.yaml\", 'w') as f:\n",
    "    f.write(dataset_config)"
   ]
  },
  {
   "cell_type": "code",
   "execution_count": 12,
   "id": "65a4330c-a71d-4110-83f0-f8370031b44a",
   "metadata": {},
   "outputs": [],
   "source": [
    "# !git config --global user.email \"dean@lampata.co.uk\"\n",
    "# !git config --global user.name \"Dean S\"\n"
   ]
  },
  {
   "cell_type": "code",
   "execution_count": 13,
   "id": "a694fcf4-75b8-4def-b9b6-c49ce3d02f5c",
   "metadata": {},
   "outputs": [
    {
     "name": "stderr",
     "output_type": "stream",
     "text": [
      "INFO:root:Forking repository...\n",
      "INFO:root:Repository forked to sunnydean/open-science-catalog-metadata-staging\n",
      "INFO:root:Checking local repository...\n",
      "INFO:root:Cloning forked repository...\n",
      "Cloning into '/home/lampata/temp_repo'...\n",
      "Updating files: 100% (1776/1776), done.\n",
      "INFO:root:Repository cloned to /home/lampata/temp_repo\n",
      "INFO:deep_code.tools.publish:Generating STAC collection...\n",
      "INFO:deep_code.utils.dataset_stac_generator:Attempting to open dataset with configuration: Public store\n",
      "ERROR:deep_code.utils.dataset_stac_generator:Failed to open dataset with configuration: Public store. Error: Failed to open dataset 'deep-esdl-public/dnbr_dataset.zarr': group not found at path ''\n",
      "INFO:deep_code.utils.dataset_stac_generator:Attempting to open dataset with configuration: Authenticated store\n",
      "INFO:deep_code.utils.dataset_stac_generator:Successfully opened dataset with configuration: Authenticated store\n",
      "INFO:deep_code.tools.publish:Variable catalog for delta-nbr does not exist. Creating...\n"
     ]
    },
    {
     "name": "stdout",
     "output_type": "stream",
     "text": [
      "Enter GCMD keyword URL or a similar url for delta-nbr:   https://gcmd.earthdata.nasa.gov/KeywordViewer/scheme/Earth%20Science/436b098d-e4d9-4fbd-9ede-05675e111eee?gtm_keyword=BURNED%20AREA&gtm_scheme=Earth%20Science\n"
     ]
    },
    {
     "name": "stderr",
     "output_type": "stream",
     "text": [
      "INFO:deep_code.utils.dataset_stac_generator:Added GCMD link for delta-nbr catalog https://gcmd.earthdata.nasa.gov/KeywordViewer/scheme/Earth%20Science/436b098d-e4d9-4fbd-9ede-05675e111eee?gtm_keyword=BURNED%20AREA&gtm_scheme=Earth%20Science.\n",
      "INFO:deep_code.tools.publish:Generating OGC API Record for the workflow...\n",
      "INFO:root:Creating new branch: add-new-collection-pangeo-test-20250508104059...\n",
      "Switched to a new branch 'add-new-collection-pangeo-test-20250508104059'\n",
      "INFO:deep_code.tools.publish:Adding products/pangeo-test/collection.json to add-new-collection-pangeo-test-20250508104059\n",
      "INFO:root:Adding new file: products/pangeo-test/collection.json...\n",
      "INFO:deep_code.tools.publish:Adding variables/delta-nbr/catalog.json to add-new-collection-pangeo-test-20250508104059\n",
      "INFO:root:Adding new file: variables/delta-nbr/catalog.json...\n",
      "INFO:deep_code.tools.publish:Adding /home/lampata/temp_repo/variables/catalog.json to add-new-collection-pangeo-test-20250508104059\n",
      "INFO:root:Adding new file: /home/lampata/temp_repo/variables/catalog.json...\n",
      "INFO:deep_code.tools.publish:Adding /home/lampata/temp_repo/products/catalog.json to add-new-collection-pangeo-test-20250508104059\n",
      "INFO:root:Adding new file: /home/lampata/temp_repo/products/catalog.json...\n",
      "INFO:deep_code.tools.publish:Adding /home/lampata/temp_repo/projects/deep-earth-system-data-lab/collection.json to add-new-collection-pangeo-test-20250508104059\n",
      "INFO:root:Adding new file: /home/lampata/temp_repo/projects/deep-earth-system-data-lab/collection.json...\n",
      "INFO:deep_code.tools.publish:Adding workflows/dnbr_workflow_example/record.json to add-new-collection-pangeo-test-20250508104059\n",
      "INFO:root:Adding new file: workflows/dnbr_workflow_example/record.json...\n",
      "INFO:deep_code.tools.publish:Adding experiments/dnbr_workflow_example/record.json to add-new-collection-pangeo-test-20250508104059\n",
      "INFO:root:Adding new file: experiments/dnbr_workflow_example/record.json...\n",
      "INFO:deep_code.tools.publish:Adding experiments/catalog.json to add-new-collection-pangeo-test-20250508104059\n",
      "INFO:root:Adding new file: experiments/catalog.json...\n",
      "INFO:deep_code.tools.publish:Adding workflows/catalog.json to add-new-collection-pangeo-test-20250508104059\n",
      "INFO:root:Adding new file: workflows/catalog.json...\n",
      "INFO:root:Committing and pushing changes...\n"
     ]
    },
    {
     "name": "stdout",
     "output_type": "stream",
     "text": [
      "[add-new-collection-pangeo-test-20250508104059 614e2d9f] Add new dataset collection: pangeo-test and workflow/experiment: dnbr_workflow_example\n",
      " 9 files changed, 420 insertions(+), 8 deletions(-)\n",
      " create mode 100644 experiments/dnbr_workflow_example/record.json\n",
      " create mode 100644 products/pangeo-test/collection.json\n",
      " create mode 100644 variables/delta-nbr/catalog.json\n",
      " create mode 100644 workflows/dnbr_workflow_example/record.json\n"
     ]
    },
    {
     "name": "stderr",
     "output_type": "stream",
     "text": [
      "remote: \n",
      "remote: Create a pull request for 'add-new-collection-pangeo-test-20250508104059' on GitHub by visiting:        \n",
      "remote:      https://github.com/sunnydean/open-science-catalog-metadata-staging/pull/new/add-new-collection-pangeo-test-20250508104059        \n",
      "remote: \n",
      "To https://github.com/sunnydean/open-science-catalog-metadata-staging.git\n",
      " * [new branch]        add-new-collection-pangeo-test-20250508104059 -> add-new-collection-pangeo-test-20250508104059\n",
      "INFO:root:Creating a pull request...\n"
     ]
    },
    {
     "name": "stdout",
     "output_type": "stream",
     "text": [
      "branch 'add-new-collection-pangeo-test-20250508104059' set up to track 'origin/add-new-collection-pangeo-test-20250508104059'.\n"
     ]
    },
    {
     "name": "stderr",
     "output_type": "stream",
     "text": [
      "INFO:root:Pull request created: https://github.com/ESA-EarthCODE/open-science-catalog-metadata-staging/pull/90\n",
      "INFO:deep_code.tools.publish:Pull request created: None\n",
      "INFO:root:Cleaning up local repository...\n",
      "INFO:deep_code.tools.publish:Pull request created: None\n"
     ]
    }
   ],
   "source": [
    "\n",
    "publisher = Publisher(\n",
    "    dataset_config_path=\"dataset_config.yaml\",\n",
    "    workflow_config_path=\"workflow_config.yaml\",\n",
    "    environment=\"staging\",\n",
    ")\n",
    "publisher.publish_all()\n"
   ]
  },
  {
   "cell_type": "code",
   "execution_count": 36,
   "id": "9f833a7c-7b11-402e-b8a7-d98c3cb62e70",
   "metadata": {},
   "outputs": [
    {
     "name": "stdout",
     "output_type": "stream",
     "text": [
      "/home/lampata/temp_repo has been deleted.\n"
     ]
    }
   ],
   "source": [
    "import os\n",
    "\n",
    "def delete_directory_recursive(path):\n",
    "    if not os.path.exists(path):\n",
    "        print(f\"{path} does not exist.\")\n",
    "        return\n",
    "\n",
    "    for root, dirs, files in os.walk(path, topdown=False):\n",
    "        for name in files:\n",
    "            file_path = os.path.join(root, name)\n",
    "            os.remove(file_path)\n",
    "        for name in dirs:\n",
    "            os.rmdir(os.path.join(root, name))\n",
    "    os.rmdir(path)\n",
    "    print(f\"{path} has been deleted.\")\n",
    "\n",
    "# delete_directory_recursive(\"/home/lampata/temp_repo\")\n",
    "# delete_directory_recursive(\"/home/lampata/Demo/wildfires-foss4g\")"
   ]
  },
  {
   "cell_type": "code",
   "execution_count": null,
   "id": "b98eb63c-b251-4c35-9170-35d26fdc2410",
   "metadata": {},
   "outputs": [],
   "source": [
    "# https://gcmd.earthdata.nasa.gov/KeywordViewer/scheme/Earth%20Science/436b098d-e4d9-4fbd-9ede-05675e111eee?gtm_keyword=BURNED%20AREA&gtm_scheme=Earth%20Science"
   ]
  }
 ],
 "metadata": {
  "kernelspec": {
   "display_name": "Python [conda env:pangeo] *",
   "language": "python",
   "name": "conda-env-pangeo-py"
  },
  "language_info": {
   "codemirror_mode": {
    "name": "ipython",
    "version": 3
   },
   "file_extension": ".py",
   "mimetype": "text/x-python",
   "name": "python",
   "nbconvert_exporter": "python",
   "pygments_lexer": "ipython3",
   "version": "3.13.3"
  }
 },
 "nbformat": 4,
 "nbformat_minor": 5
}
